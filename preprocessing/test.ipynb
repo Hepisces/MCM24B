{
 "cells": [
  {
   "cell_type": "code",
   "execution_count": 2,
   "metadata": {},
   "outputs": [],
   "source": [
    "%load_ext autoreload\n",
    "%autoreload 2\n",
    "import datapreprocess as dp"
   ]
  },
  {
   "cell_type": "code",
   "execution_count": 3,
   "metadata": {},
   "outputs": [
    {
     "name": "stdout",
     "output_type": "stream",
     "text": [
      "   missing_count  missing_ratio\n",
      "A              1       0.333333\n",
      "B              1       0.333333\n",
      "C              1       0.333333\n",
      "D              1       0.333333\n"
     ]
    }
   ],
   "source": [
    "import pandas as pd\n",
    "from io import StringIO\n",
    "csv_data= '''A,B,C,D\n",
    "1.0,2.0,3.0,4.0\n",
    ",,,\n",
    "10.0,11.0,12.0,13.0'''\n",
    "df=pd.read_csv(StringIO(csv_data))\n",
    "miss=dp.missing_check(df)"
   ]
  },
  {
   "cell_type": "code",
   "execution_count": 4,
   "metadata": {},
   "outputs": [],
   "source": [
    "waydict = {\"A\": \"mean\", \"B\": \"median\", \"C\": \"mode\", \"D\": \"ffill\"}"
   ]
  },
  {
   "cell_type": "code",
   "execution_count": 5,
   "metadata": {},
   "outputs": [
    {
     "name": "stdout",
     "output_type": "stream",
     "text": [
      "缺失值检查通过！\n"
     ]
    },
    {
     "data": {
      "text/html": [
       "<div>\n",
       "<style scoped>\n",
       "    .dataframe tbody tr th:only-of-type {\n",
       "        vertical-align: middle;\n",
       "    }\n",
       "\n",
       "    .dataframe tbody tr th {\n",
       "        vertical-align: top;\n",
       "    }\n",
       "\n",
       "    .dataframe thead th {\n",
       "        text-align: right;\n",
       "    }\n",
       "</style>\n",
       "<table border=\"1\" class=\"dataframe\">\n",
       "  <thead>\n",
       "    <tr style=\"text-align: right;\">\n",
       "      <th></th>\n",
       "      <th>A</th>\n",
       "      <th>B</th>\n",
       "      <th>C</th>\n",
       "      <th>D</th>\n",
       "    </tr>\n",
       "  </thead>\n",
       "  <tbody>\n",
       "    <tr>\n",
       "      <th>0</th>\n",
       "      <td>1.0</td>\n",
       "      <td>2.0</td>\n",
       "      <td>3.0</td>\n",
       "      <td>4.0</td>\n",
       "    </tr>\n",
       "    <tr>\n",
       "      <th>1</th>\n",
       "      <td>5.5</td>\n",
       "      <td>6.5</td>\n",
       "      <td>3.0</td>\n",
       "      <td>4.0</td>\n",
       "    </tr>\n",
       "    <tr>\n",
       "      <th>2</th>\n",
       "      <td>10.0</td>\n",
       "      <td>11.0</td>\n",
       "      <td>12.0</td>\n",
       "      <td>13.0</td>\n",
       "    </tr>\n",
       "  </tbody>\n",
       "</table>\n",
       "</div>"
      ],
      "text/plain": [
       "      A     B     C     D\n",
       "0   1.0   2.0   3.0   4.0\n",
       "1   5.5   6.5   3.0   4.0\n",
       "2  10.0  11.0  12.0  13.0"
      ]
     },
     "execution_count": 5,
     "metadata": {},
     "output_type": "execute_result"
    }
   ],
   "source": [
    "\n",
    "dp.missing_fill(df,waydict)"
   ]
  },
  {
   "cell_type": "code",
   "execution_count": 6,
   "metadata": {},
   "outputs": [
    {
     "name": "stdout",
     "output_type": "stream",
     "text": [
      "基本信息:\n",
      "<class 'pandas.core.frame.DataFrame'>\n",
      "RangeIndex: 3 entries, 0 to 2\n",
      "Data columns (total 4 columns):\n",
      " #   Column  Non-Null Count  Dtype  \n",
      "---  ------  --------------  -----  \n",
      " 0   A       2 non-null      float64\n",
      " 1   B       2 non-null      float64\n",
      " 2   C       2 non-null      float64\n",
      " 3   D       2 non-null      float64\n",
      "dtypes: float64(4)\n",
      "memory usage: 228.0 bytes\n",
      "None\n",
      "--------------------\n",
      "描述性统计信息：\n",
      "               A          B          C          D\n",
      "count   2.000000   2.000000   2.000000   2.000000\n",
      "mean    5.500000   6.500000   7.500000   8.500000\n",
      "std     6.363961   6.363961   6.363961   6.363961\n",
      "min     1.000000   2.000000   3.000000   4.000000\n",
      "25%     3.250000   4.250000   5.250000   6.250000\n",
      "50%     5.500000   6.500000   7.500000   8.500000\n",
      "75%     7.750000   8.750000   9.750000  10.750000\n",
      "max    10.000000  11.000000  12.000000  13.000000\n",
      "--------------------\n",
      "数学统计信息：\n",
      "   count  mean       std  min   25%  50%    75%   max  skew  kurt\n",
      "A    2.0   5.5  6.363961  1.0  3.25  5.5   7.75  10.0   NaN   NaN\n",
      "B    2.0   6.5  6.363961  2.0  4.25  6.5   8.75  11.0   NaN   NaN\n",
      "C    2.0   7.5  6.363961  3.0  5.25  7.5   9.75  12.0   NaN   NaN\n",
      "D    2.0   8.5  6.363961  4.0  6.25  8.5  10.75  13.0   NaN   NaN\n"
     ]
    }
   ],
   "source": [
    "dp.data_describe(df)"
   ]
  },
  {
   "cell_type": "code",
   "execution_count": 7,
   "metadata": {},
   "outputs": [
    {
     "name": "stdout",
     "output_type": "stream",
     "text": [
      "基本信息:\n",
      "<class 'pandas.core.frame.DataFrame'>\n",
      "RangeIndex: 3 entries, 0 to 2\n",
      "Data columns (total 4 columns):\n",
      " #   Column  Non-Null Count  Dtype  \n",
      "---  ------  --------------  -----  \n",
      " 0   A       2 non-null      float64\n",
      " 1   B       2 non-null      float64\n",
      " 2   C       2 non-null      float64\n",
      " 3   D       2 non-null      float64\n",
      "dtypes: float64(4)\n",
      "memory usage: 228.0 bytes\n",
      "None\n",
      "--------------------\n",
      "描述性统计信息：\n",
      "               A          B          C          D\n",
      "count   2.000000   2.000000   2.000000   2.000000\n",
      "mean    5.500000   6.500000   7.500000   8.500000\n",
      "std     6.363961   6.363961   6.363961   6.363961\n",
      "min     1.000000   2.000000   3.000000   4.000000\n",
      "25%     3.250000   4.250000   5.250000   6.250000\n",
      "50%     5.500000   6.500000   7.500000   8.500000\n",
      "75%     7.750000   8.750000   9.750000  10.750000\n",
      "max    10.000000  11.000000  12.000000  13.000000\n",
      "--------------------\n",
      "数学统计信息：\n",
      "   count  mean       std  min   25%  50%    75%   max  skew  kurt\n",
      "A    2.0   5.5  6.363961  1.0  3.25  5.5   7.75  10.0   NaN   NaN\n",
      "B    2.0   6.5  6.363961  2.0  4.25  6.5   8.75  11.0   NaN   NaN\n",
      "C    2.0   7.5  6.363961  3.0  5.25  7.5   9.75  12.0   NaN   NaN\n",
      "D    2.0   8.5  6.363961  4.0  6.25  8.5  10.75  13.0   NaN   NaN\n"
     ]
    }
   ],
   "source": [
    "dp.data_describe(df)"
   ]
  },
  {
   "cell_type": "code",
   "execution_count": 8,
   "metadata": {},
   "outputs": [
    {
     "name": "stdout",
     "output_type": "stream",
     "text": [
      "   A    B\n",
      "0  4  0.0\n",
      "1  3  1.0\n",
      "2  2  1.0\n",
      "3  1  1.0\n",
      "4  0  0.0\n"
     ]
    }
   ],
   "source": [
    "# 示例用法:\n",
    "df = pd.DataFrame({\n",
    "    'A': [1, 2, 3, 4, 5],\n",
    "    'B': [10, 15, 20, 25, 30]\n",
    "})\n",
    "col_operations = {\n",
    "    'A': ['min'],\n",
    "    'B': ['range', 15, 25]\n",
    "}\n",
    "processed_df = dp.uniform_data(df, col_operations)\n",
    "print(processed_df)"
   ]
  },
  {
   "cell_type": "code",
   "execution_count": 9,
   "metadata": {},
   "outputs": [
    {
     "name": "stdout",
     "output_type": "stream",
     "text": [
      "Class labels [1 2 3]\n"
     ]
    },
    {
     "data": {
      "text/html": [
       "<div>\n",
       "<style scoped>\n",
       "    .dataframe tbody tr th:only-of-type {\n",
       "        vertical-align: middle;\n",
       "    }\n",
       "\n",
       "    .dataframe tbody tr th {\n",
       "        vertical-align: top;\n",
       "    }\n",
       "\n",
       "    .dataframe thead th {\n",
       "        text-align: right;\n",
       "    }\n",
       "</style>\n",
       "<table border=\"1\" class=\"dataframe\">\n",
       "  <thead>\n",
       "    <tr style=\"text-align: right;\">\n",
       "      <th></th>\n",
       "      <th>Class label</th>\n",
       "      <th>Alcohol</th>\n",
       "      <th>Malic acid</th>\n",
       "      <th>Ash</th>\n",
       "      <th>Alcalinity of ash</th>\n",
       "      <th>Magnesium</th>\n",
       "      <th>Total phenols</th>\n",
       "      <th>Flavanoids</th>\n",
       "      <th>Nonflavanoid phenols</th>\n",
       "      <th>Proanthocyanins</th>\n",
       "      <th>Color intensity</th>\n",
       "      <th>Hue</th>\n",
       "      <th>OD280/OD315 of diluted wines</th>\n",
       "      <th>Proline</th>\n",
       "    </tr>\n",
       "  </thead>\n",
       "  <tbody>\n",
       "    <tr>\n",
       "      <th>0</th>\n",
       "      <td>1</td>\n",
       "      <td>14.23</td>\n",
       "      <td>1.71</td>\n",
       "      <td>2.43</td>\n",
       "      <td>15.6</td>\n",
       "      <td>127</td>\n",
       "      <td>2.80</td>\n",
       "      <td>3.06</td>\n",
       "      <td>0.28</td>\n",
       "      <td>2.29</td>\n",
       "      <td>5.64</td>\n",
       "      <td>1.04</td>\n",
       "      <td>3.92</td>\n",
       "      <td>1065</td>\n",
       "    </tr>\n",
       "    <tr>\n",
       "      <th>1</th>\n",
       "      <td>1</td>\n",
       "      <td>13.20</td>\n",
       "      <td>1.78</td>\n",
       "      <td>2.14</td>\n",
       "      <td>11.2</td>\n",
       "      <td>100</td>\n",
       "      <td>2.65</td>\n",
       "      <td>2.76</td>\n",
       "      <td>0.26</td>\n",
       "      <td>1.28</td>\n",
       "      <td>4.38</td>\n",
       "      <td>1.05</td>\n",
       "      <td>3.40</td>\n",
       "      <td>1050</td>\n",
       "    </tr>\n",
       "    <tr>\n",
       "      <th>2</th>\n",
       "      <td>1</td>\n",
       "      <td>13.16</td>\n",
       "      <td>2.36</td>\n",
       "      <td>2.67</td>\n",
       "      <td>18.6</td>\n",
       "      <td>101</td>\n",
       "      <td>2.80</td>\n",
       "      <td>3.24</td>\n",
       "      <td>0.30</td>\n",
       "      <td>2.81</td>\n",
       "      <td>5.68</td>\n",
       "      <td>1.03</td>\n",
       "      <td>3.17</td>\n",
       "      <td>1185</td>\n",
       "    </tr>\n",
       "    <tr>\n",
       "      <th>3</th>\n",
       "      <td>1</td>\n",
       "      <td>14.37</td>\n",
       "      <td>1.95</td>\n",
       "      <td>2.50</td>\n",
       "      <td>16.8</td>\n",
       "      <td>113</td>\n",
       "      <td>3.85</td>\n",
       "      <td>3.49</td>\n",
       "      <td>0.24</td>\n",
       "      <td>2.18</td>\n",
       "      <td>7.80</td>\n",
       "      <td>0.86</td>\n",
       "      <td>3.45</td>\n",
       "      <td>1480</td>\n",
       "    </tr>\n",
       "    <tr>\n",
       "      <th>4</th>\n",
       "      <td>1</td>\n",
       "      <td>13.24</td>\n",
       "      <td>2.59</td>\n",
       "      <td>2.87</td>\n",
       "      <td>21.0</td>\n",
       "      <td>118</td>\n",
       "      <td>2.80</td>\n",
       "      <td>2.69</td>\n",
       "      <td>0.39</td>\n",
       "      <td>1.82</td>\n",
       "      <td>4.32</td>\n",
       "      <td>1.04</td>\n",
       "      <td>2.93</td>\n",
       "      <td>735</td>\n",
       "    </tr>\n",
       "  </tbody>\n",
       "</table>\n",
       "</div>"
      ],
      "text/plain": [
       "   Class label  Alcohol  Malic acid   Ash  Alcalinity of ash  Magnesium  \\\n",
       "0            1    14.23        1.71  2.43               15.6        127   \n",
       "1            1    13.20        1.78  2.14               11.2        100   \n",
       "2            1    13.16        2.36  2.67               18.6        101   \n",
       "3            1    14.37        1.95  2.50               16.8        113   \n",
       "4            1    13.24        2.59  2.87               21.0        118   \n",
       "\n",
       "   Total phenols  Flavanoids  Nonflavanoid phenols  Proanthocyanins  \\\n",
       "0           2.80        3.06                  0.28             2.29   \n",
       "1           2.65        2.76                  0.26             1.28   \n",
       "2           2.80        3.24                  0.30             2.81   \n",
       "3           3.85        3.49                  0.24             2.18   \n",
       "4           2.80        2.69                  0.39             1.82   \n",
       "\n",
       "   Color intensity   Hue  OD280/OD315 of diluted wines  Proline  \n",
       "0             5.64  1.04                          3.92     1065  \n",
       "1             4.38  1.05                          3.40     1050  \n",
       "2             5.68  1.03                          3.17     1185  \n",
       "3             7.80  0.86                          3.45     1480  \n",
       "4             4.32  1.04                          2.93      735  "
      ]
     },
     "execution_count": 9,
     "metadata": {},
     "output_type": "execute_result"
    }
   ],
   "source": [
    "import numpy as np\n",
    "df=pd.read_csv(r\"F:\\Files\\GITHUB\\daily_learn\\pyTorch\\chapter4\\wine.data\",header=None)\n",
    "df.columns = ['Class label', 'Alcohol', 'Malic acid', 'Ash',\n",
    "                   'Alcalinity of ash', 'Magnesium', 'Total phenols',\n",
    "                   'Flavanoids', 'Nonflavanoid phenols', 'Proanthocyanins',\n",
    "                   'Color intensity', 'Hue', 'OD280/OD315 of diluted wines',\n",
    "                   'Proline']\n",
    "\n",
    "print('Class labels', np.unique(df['Class label']))\n",
    "df.head()"
   ]
  },
  {
   "cell_type": "code",
   "execution_count": 23,
   "metadata": {},
   "outputs": [
    {
     "name": "stdout",
     "output_type": "stream",
     "text": [
      "Lasso回归特征选择结果:\n",
      "Color intensity                 0.139212\n",
      "Alcalinity of ash               0.125119\n",
      "Malic acid                      0.025173\n",
      "Magnesium                       0.000000\n",
      "Total phenols                   0.000000\n",
      "Proanthocyanins                 0.000000\n",
      "Nonflavanoid phenols           -0.001965\n",
      "Ash                            -0.026166\n",
      "Hue                            -0.049077\n",
      "Alcohol                        -0.063959\n",
      "OD280/OD315 of diluted wines   -0.175794\n",
      "Proline                        -0.202564\n",
      "Flavanoids                     -0.278389\n",
      "dtype: float64\n",
      "Accuracy: 0.893820121380957\n",
      "---------\n"
     ]
    }
   ],
   "source": [
    "X_train, X_test, y_train, y_test = dp.split(df, target=\"Class label\")\n",
    "results = dp.feature_selection(X_train, y_train, way='Lasso')"
   ]
  },
  {
   "cell_type": "code",
   "execution_count": 27,
   "metadata": {},
   "outputs": [
    {
     "name": "stdout",
     "output_type": "stream",
     "text": [
      "Help on function feature_selection in module datapreprocess:\n",
      "\n",
      "feature_selection(X_train: pandas.core.frame.DataFrame, y: pandas.core.series.Series, way='all') -> dict\n",
      "    特征选择函数，根据指定的方法选择特征，并打印各自的选择结果。\n",
      "\n",
      "    参数:\n",
      "    - X_train: DataFrame，训练特征数据。\n",
      "    - y: Series，目标变量。\n",
      "    - way: str，特征选择方法。可选 'RandomForest'（随机森林）、'ForwardSelection'（向前逐步回归）、'Lasso'（Lasso回归）、'all'（所有方法）。\n",
      "\n",
      "    返回:\n",
      "    - results: dict，包含各方法选择的特征。\n",
      "\n"
     ]
    }
   ],
   "source": [
    "help(dp.feature_selection)"
   ]
  },
  {
   "cell_type": "code",
   "execution_count": null,
   "metadata": {},
   "outputs": [],
   "source": []
  }
 ],
 "metadata": {
  "kernelspec": {
   "display_name": "pytorch",
   "language": "python",
   "name": "python3"
  },
  "language_info": {
   "codemirror_mode": {
    "name": "ipython",
    "version": 3
   },
   "file_extension": ".py",
   "mimetype": "text/x-python",
   "name": "python",
   "nbconvert_exporter": "python",
   "pygments_lexer": "ipython3",
   "version": "3.12.5"
  }
 },
 "nbformat": 4,
 "nbformat_minor": 2
}
