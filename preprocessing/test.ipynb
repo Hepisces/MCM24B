{
 "cells": [
  {
   "cell_type": "code",
   "execution_count": 1,
   "metadata": {},
   "outputs": [],
   "source": [
    "%load_ext autoreload\n",
    "%autoreload 2\n",
    "import datapreprocess as dp"
   ]
  },
  {
   "cell_type": "code",
   "execution_count": 2,
   "metadata": {},
   "outputs": [
    {
     "name": "stdout",
     "output_type": "stream",
     "text": [
      "   missing_count  missing_ratio\n",
      "A              1       0.333333\n",
      "B              1       0.333333\n",
      "C              1       0.333333\n",
      "D              1       0.333333\n"
     ]
    }
   ],
   "source": [
    "import pandas as pd\n",
    "from io import StringIO\n",
    "csv_data= '''A,B,C,D\n",
    "1.0,2.0,3.0,4.0\n",
    ",,,\n",
    "10.0,11.0,12.0,13.0'''\n",
    "df=pd.read_csv(StringIO(csv_data))\n",
    "miss=dp.missing_check(df)"
   ]
  },
  {
   "cell_type": "code",
   "execution_count": 3,
   "metadata": {},
   "outputs": [],
   "source": [
    "waydict = {\"A\": \"mean\", \"B\": \"median\", \"C\": \"mode\", \"D\": \"ffill\"}"
   ]
  },
  {
   "cell_type": "code",
   "execution_count": 4,
   "metadata": {},
   "outputs": [
    {
     "name": "stdout",
     "output_type": "stream",
     "text": [
      "缺失值检查通过！\n"
     ]
    },
    {
     "data": {
      "text/html": [
       "<div>\n",
       "<style scoped>\n",
       "    .dataframe tbody tr th:only-of-type {\n",
       "        vertical-align: middle;\n",
       "    }\n",
       "\n",
       "    .dataframe tbody tr th {\n",
       "        vertical-align: top;\n",
       "    }\n",
       "\n",
       "    .dataframe thead th {\n",
       "        text-align: right;\n",
       "    }\n",
       "</style>\n",
       "<table border=\"1\" class=\"dataframe\">\n",
       "  <thead>\n",
       "    <tr style=\"text-align: right;\">\n",
       "      <th></th>\n",
       "      <th>A</th>\n",
       "      <th>B</th>\n",
       "      <th>C</th>\n",
       "      <th>D</th>\n",
       "    </tr>\n",
       "  </thead>\n",
       "  <tbody>\n",
       "    <tr>\n",
       "      <th>0</th>\n",
       "      <td>1.0</td>\n",
       "      <td>2.0</td>\n",
       "      <td>3.0</td>\n",
       "      <td>4.0</td>\n",
       "    </tr>\n",
       "    <tr>\n",
       "      <th>1</th>\n",
       "      <td>5.5</td>\n",
       "      <td>6.5</td>\n",
       "      <td>3.0</td>\n",
       "      <td>4.0</td>\n",
       "    </tr>\n",
       "    <tr>\n",
       "      <th>2</th>\n",
       "      <td>10.0</td>\n",
       "      <td>11.0</td>\n",
       "      <td>12.0</td>\n",
       "      <td>13.0</td>\n",
       "    </tr>\n",
       "  </tbody>\n",
       "</table>\n",
       "</div>"
      ],
      "text/plain": [
       "      A     B     C     D\n",
       "0   1.0   2.0   3.0   4.0\n",
       "1   5.5   6.5   3.0   4.0\n",
       "2  10.0  11.0  12.0  13.0"
      ]
     },
     "execution_count": 4,
     "metadata": {},
     "output_type": "execute_result"
    }
   ],
   "source": [
    "\n",
    "dp.missing_fill(df,waydict)"
   ]
  },
  {
   "cell_type": "code",
   "execution_count": 5,
   "metadata": {},
   "outputs": [
    {
     "name": "stdout",
     "output_type": "stream",
     "text": [
      "基本信息:\n",
      "<class 'pandas.core.frame.DataFrame'>\n",
      "RangeIndex: 3 entries, 0 to 2\n",
      "Data columns (total 4 columns):\n",
      " #   Column  Non-Null Count  Dtype  \n",
      "---  ------  --------------  -----  \n",
      " 0   A       2 non-null      float64\n",
      " 1   B       2 non-null      float64\n",
      " 2   C       2 non-null      float64\n",
      " 3   D       2 non-null      float64\n",
      "dtypes: float64(4)\n",
      "memory usage: 228.0 bytes\n",
      "None\n",
      "--------------------\n",
      "描述性统计信息：\n",
      "               A          B          C          D\n",
      "count   2.000000   2.000000   2.000000   2.000000\n",
      "mean    5.500000   6.500000   7.500000   8.500000\n",
      "std     6.363961   6.363961   6.363961   6.363961\n",
      "min     1.000000   2.000000   3.000000   4.000000\n",
      "25%     3.250000   4.250000   5.250000   6.250000\n",
      "50%     5.500000   6.500000   7.500000   8.500000\n",
      "75%     7.750000   8.750000   9.750000  10.750000\n",
      "max    10.000000  11.000000  12.000000  13.000000\n",
      "--------------------\n",
      "数学统计信息：\n",
      "   count  mean       std  min   25%  50%    75%   max  skew  kurt\n",
      "A    2.0   5.5  6.363961  1.0  3.25  5.5   7.75  10.0   NaN   NaN\n",
      "B    2.0   6.5  6.363961  2.0  4.25  6.5   8.75  11.0   NaN   NaN\n",
      "C    2.0   7.5  6.363961  3.0  5.25  7.5   9.75  12.0   NaN   NaN\n",
      "D    2.0   8.5  6.363961  4.0  6.25  8.5  10.75  13.0   NaN   NaN\n"
     ]
    }
   ],
   "source": [
    "dp.data_describe(df)"
   ]
  },
  {
   "cell_type": "code",
   "execution_count": 6,
   "metadata": {},
   "outputs": [
    {
     "name": "stdout",
     "output_type": "stream",
     "text": [
      "基本信息:\n",
      "<class 'pandas.core.frame.DataFrame'>\n",
      "RangeIndex: 3 entries, 0 to 2\n",
      "Data columns (total 4 columns):\n",
      " #   Column  Non-Null Count  Dtype  \n",
      "---  ------  --------------  -----  \n",
      " 0   A       2 non-null      float64\n",
      " 1   B       2 non-null      float64\n",
      " 2   C       2 non-null      float64\n",
      " 3   D       2 non-null      float64\n",
      "dtypes: float64(4)\n",
      "memory usage: 228.0 bytes\n",
      "None\n",
      "--------------------\n",
      "描述性统计信息：\n",
      "               A          B          C          D\n",
      "count   2.000000   2.000000   2.000000   2.000000\n",
      "mean    5.500000   6.500000   7.500000   8.500000\n",
      "std     6.363961   6.363961   6.363961   6.363961\n",
      "min     1.000000   2.000000   3.000000   4.000000\n",
      "25%     3.250000   4.250000   5.250000   6.250000\n",
      "50%     5.500000   6.500000   7.500000   8.500000\n",
      "75%     7.750000   8.750000   9.750000  10.750000\n",
      "max    10.000000  11.000000  12.000000  13.000000\n",
      "--------------------\n",
      "数学统计信息：\n",
      "   count  mean       std  min   25%  50%    75%   max  skew  kurt\n",
      "A    2.0   5.5  6.363961  1.0  3.25  5.5   7.75  10.0   NaN   NaN\n",
      "B    2.0   6.5  6.363961  2.0  4.25  6.5   8.75  11.0   NaN   NaN\n",
      "C    2.0   7.5  6.363961  3.0  5.25  7.5   9.75  12.0   NaN   NaN\n",
      "D    2.0   8.5  6.363961  4.0  6.25  8.5  10.75  13.0   NaN   NaN\n"
     ]
    }
   ],
   "source": [
    "dp.data_describe(df)"
   ]
  },
  {
   "cell_type": "code",
   "execution_count": 7,
   "metadata": {},
   "outputs": [
    {
     "name": "stdout",
     "output_type": "stream",
     "text": [
      "          A         B\n",
      "0  1.414214 -1.224745\n",
      "1  0.707107  0.816497\n",
      "2  0.000000  0.816497\n",
      "3 -0.707107  0.816497\n",
      "4 -1.414214 -1.224745\n"
     ]
    }
   ],
   "source": [
    "# 示例用法:\n",
    "df = pd.DataFrame({\n",
    "    'A': [1, 2, 3, 4, 5],\n",
    "    'B': [10, 15, 20, 25, 30]\n",
    "})\n",
    "col_operations = {\n",
    "    'A': ['min'],\n",
    "    'B': ['range', 15, 25]\n",
    "}\n",
    "processed_df = dp.uniform_data(df, col_operations)\n",
    "print(processed_df)"
   ]
  },
  {
   "cell_type": "code",
   "execution_count": null,
   "metadata": {},
   "outputs": [],
   "source": []
  }
 ],
 "metadata": {
  "kernelspec": {
   "display_name": "pytorch",
   "language": "python",
   "name": "python3"
  },
  "language_info": {
   "codemirror_mode": {
    "name": "ipython",
    "version": 3
   },
   "file_extension": ".py",
   "mimetype": "text/x-python",
   "name": "python",
   "nbconvert_exporter": "python",
   "pygments_lexer": "ipython3",
   "version": "3.12.5"
  }
 },
 "nbformat": 4,
 "nbformat_minor": 2
}
